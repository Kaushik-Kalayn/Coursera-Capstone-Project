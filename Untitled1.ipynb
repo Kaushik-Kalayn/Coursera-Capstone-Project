{
 "cells": [
  {
   "cell_type": "markdown",
   "metadata": {},
   "source": [
    "# Data "
   ]
  },
  {
   "cell_type": "markdown",
   "metadata": {},
   "source": [
    "__Data Requirement__\n",
    "\n",
    "Data about the House Sale Price in Ontario with its Location Coordiantes\n",
    "\n",
    "___Data Collection___\n",
    "\n",
    "There are many ways to collect the data of house prices, Kaggle is one of the best source for the predefined Structured Data\n",
    "The Data used for this project is <a href='https://www.kaggle.com/mnabaee/ontarioproperties'>House Sales in Ontario</a>\n",
    "\n",
    "It provides the Latitude and Longitude of the Houses too."
   ]
  },
  {
   "cell_type": "markdown",
   "metadata": {},
   "source": [
    "<b>Data Preprocessing</b>\n",
    "\n",
    "The Prices of the House vary largely with the no of bedrooms and other Features\n",
    "For simplicity we filter the Data so that the Data Contains only the Houses with 2 Bedrooms and have similar range of price"
   ]
  },
  {
   "cell_type": "markdown",
   "metadata": {},
   "source": [
    "### Foursqaure API"
   ]
  },
  {
   "cell_type": "markdown",
   "metadata": {},
   "source": [
    "We use the latitude and longitude of the House and discover the venues around it and add it the DataSet.\n",
    "\n",
    "Firstly we predict the Price of the House without the FourSquare venues Included and Calculate the Accuracy of the Model.\n",
    "\n",
    "Then we Add the Venues to the Dataset and predict the Price of the house and Calculate its model Accuracy.\n",
    "\n",
    "We Compare the Accuracy of both the models. If the accuracy is improved it proves that venues \n"
   ]
  },
  {
   "cell_type": "code",
   "execution_count": null,
   "metadata": {},
   "outputs": [],
   "source": []
  }
 ],
 "metadata": {
  "kernelspec": {
   "display_name": "Python 3",
   "language": "python",
   "name": "python3"
  },
  "language_info": {
   "codemirror_mode": {
    "name": "ipython",
    "version": 3
   },
   "file_extension": ".py",
   "mimetype": "text/x-python",
   "name": "python",
   "nbconvert_exporter": "python",
   "pygments_lexer": "ipython3",
   "version": "3.7.6"
  }
 },
 "nbformat": 4,
 "nbformat_minor": 4
}
