{
 "cells": [
  {
   "cell_type": "markdown",
   "metadata": {},
   "source": [
    "## Introduction\n",
    "\n"
   ]
  },
  {
   "cell_type": "markdown",
   "metadata": {},
   "source": [
    "Ontario is one of the thirteen provinces and territories of Canada. Located in Central Canada, it is Canada's most populous province, with 38.3 percent of the country's population, and is the second-largest province in total area.\n",
    "With a land area of 908,607.67 km2 (350,815.38 sq mi), it had a population density of 14.8/km2 (38.3/sq mi) in 2016. The largest population centres in Ontario are Toronto, Ottawa, Hamilton, Kitchener, London and Oshawa which all have more than 300,000 inhabitants.\n",
    "\n",
    "For a person who lives in Ontorio can own a Magnificent House. \n",
    "\n",
    "House sale price prediction is one of the challenging task. Most the feature Engineering is done on the properties of the House like living area SqFeet, Number of bedrooms, Parkng Lot, etc.\n",
    "\n",
    "But the Demographic Location also plays a fital role in fixing a price of the House. For a house which is located nearer to the shopping malls and Venues around it are priced Higher than the rest.\n",
    "\n",
    "Problem Statement:\n",
    "#### Does the venues around a house have any significance  & impact  on the Price Fixation of a House?\n###Target Audience: \nTo help improve the House price pridiction algotithms for the real estate Brokers"
   ]
  },
  {
   "cell_type": "code",
   "execution_count": null,
   "metadata": {},
   "outputs": [],
   "source": []
  }
 ],
 "metadata": {
  "kernelspec": {
   "display_name": "Python 3",
   "language": "python",
   "name": "python3"
  },
  "language_info": {
   "codemirror_mode": {
    "name": "ipython",
    "version": 3
   },
   "file_extension": ".py",
   "mimetype": "text/x-python",
   "name": "python",
   "nbconvert_exporter": "python",
   "pygments_lexer": "ipython3",
   "version": "3.7.6"
  }
 },
 "nbformat": 4,
 "nbformat_minor": 4
}
